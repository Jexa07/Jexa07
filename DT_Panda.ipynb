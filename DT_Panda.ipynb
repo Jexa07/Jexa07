{
  "nbformat": 4,
  "nbformat_minor": 0,
  "metadata": {
    "colab": {
      "provenance": [],
      "include_colab_link": true
    },
    "kernelspec": {
      "name": "python3",
      "display_name": "Python 3"
    },
    "language_info": {
      "name": "python"
    }
  },
  "cells": [
    {
      "cell_type": "markdown",
      "metadata": {
        "id": "view-in-github",
        "colab_type": "text"
      },
      "source": [
        "<a href=\"https://colab.research.google.com/github/Jexa07/Jexa07/blob/main/DT_Panda.ipynb\" target=\"_parent\"><img src=\"https://colab.research.google.com/assets/colab-badge.svg\" alt=\"Open In Colab\"/></a>"
      ]
    },
    {
      "cell_type": "code",
      "source": [
        "from google.colab import drive\n",
        "drive.mount('/content/drive')"
      ],
      "metadata": {
        "id": "GrVZ84hBZCWM"
      },
      "execution_count": null,
      "outputs": []
    },
    {
      "cell_type": "code",
      "metadata": {
        "id": "FhWuNC5kTYis"
      },
      "source": [
        "#pip install pandas\n",
        "import pandas as pd\n",
        "#/content/data14.csv\n",
        "df = pd.read_csv('/content/drive/MyDrive/HPML-2022/iris.csv')\n",
        "print(type(df))\n",
        "# To print the entire data frame\n",
        "print(df.to_string()) "
      ],
      "execution_count": null,
      "outputs": []
    },
    {
      "cell_type": "code",
      "metadata": {
        "id": "bW1_lF2yTs0B"
      },
      "source": [
        "#Show top 5 rows of the dataset\n",
        "df.head()\n",
        "#df.head(10)"
      ],
      "execution_count": null,
      "outputs": []
    },
    {
      "cell_type": "code",
      "metadata": {
        "id": "TSp32lszV3B0"
      },
      "source": [
        "#Show bottom 5 rows of the dataset\n",
        "df.tail()\n",
        "#df.tail(10)"
      ],
      "execution_count": null,
      "outputs": []
    },
    {
      "cell_type": "code",
      "metadata": {
        "id": "lKnzE0WNT1Ja"
      },
      "source": [
        "# Get the datatype of each column\n",
        "df.dtypes\n",
        "#Columns with mixed types ar\n",
        "#stored with the object dtype"
      ],
      "execution_count": null,
      "outputs": []
    },
    {
      "cell_type": "markdown",
      "metadata": {
        "id": "vB4u8_EcVUb5"
      },
      "source": [
        "**Get the dimension of the dataset**"
      ]
    },
    {
      "cell_type": "code",
      "metadata": {
        "id": "OVvEJAm7VRuI"
      },
      "source": [
        "print(\"df.shape -->\", df.shape)\n",
        "print(\"Rows     -->\", df.shape[0])  ##axis 0---row\n",
        "print(\"Columns  -->\", df.shape[1])   ###column"
      ],
      "execution_count": null,
      "outputs": []
    },
    {
      "cell_type": "code",
      "metadata": {
        "id": "a-IREkFNVhX1"
      },
      "source": [
        "#Get all column names of the dataset\n",
        "df.columns"
      ],
      "execution_count": null,
      "outputs": []
    },
    {
      "cell_type": "code",
      "metadata": {
        "id": "_0VdALKCWDMs"
      },
      "source": [
        "#Get the index\n",
        "df.index"
      ],
      "execution_count": null,
      "outputs": []
    },
    {
      "cell_type": "code",
      "metadata": {
        "id": "JBV71ITKWIY-"
      },
      "source": [
        "#Get the statistical summary of the dataset\n",
        "df.describe()"
      ],
      "execution_count": null,
      "outputs": []
    },
    {
      "cell_type": "code",
      "metadata": {
        "id": "SSYeEGGRWQeS"
      },
      "source": [
        "#Get the information related to the dataset\n",
        "df.info()\n"
      ],
      "execution_count": null,
      "outputs": []
    },
    {
      "cell_type": "code",
      "metadata": {
        "id": "U_mYkP5mWYYI"
      },
      "source": [
        "#Transposing the dataset\n",
        "df.T"
      ],
      "execution_count": null,
      "outputs": []
    },
    {
      "cell_type": "code",
      "metadata": {
        "id": "ZVa0Xdr4XEw-"
      },
      "source": [
        "#Accessing data from dataset\n",
        "df.loc[:5, ['Sepal.Length','Petal.Length']]"
      ],
      "execution_count": null,
      "outputs": []
    },
    {
      "cell_type": "code",
      "metadata": {
        "id": "umd_qPNcYHLc"
      },
      "source": [
        "#Get the correlation of the all the columns present in the dataset\n",
        "df.corr()"
      ],
      "execution_count": null,
      "outputs": []
    },
    {
      "cell_type": "code",
      "metadata": {
        "id": "TvqSjxt7yByD"
      },
      "source": [
        "# Working on Uncleaned Data\n",
        "# Cleaning of data is important otherwise \n",
        "# it will result in wrong analysis\n",
        "# Here we choose dirtydata.csv \n",
        "import pandas as pd\n",
        "#/content/data14.csv\n",
        "dirty = pd.read_csv('dirtydata.csv')\n",
        "dirty.head(30)"
      ],
      "execution_count": null,
      "outputs": []
    },
    {
      "cell_type": "code",
      "metadata": {
        "id": "E3mPWymLzS1d"
      },
      "source": [
        "# Drop those rows having any \"NA\" values\n",
        "# But, No change in the original Data\n",
        "dirty_new=dirty.dropna()\n",
        "print(dirty_new)\n",
        "dirty.head(30)"
      ],
      "execution_count": null,
      "outputs": []
    },
    {
      "cell_type": "code",
      "metadata": {
        "id": "pf34botf1fTk"
      },
      "source": [
        "# Drop those rows having any \"NA\" values\n",
        "# It will also change in the original Data\n",
        "dirty.dropna(inplace = True)\n"
      ],
      "execution_count": null,
      "outputs": []
    },
    {
      "cell_type": "code",
      "metadata": {
        "id": "BVmAdXLVjcxl"
      },
      "source": [
        "dirty = pd.read_csv('dirtydata.csv')\n",
        "dirty.head(30)\n",
        "# Replace the NA value with A (or any value)\n",
        "dirty.fillna('A', inplace = True)\n"
      ],
      "execution_count": null,
      "outputs": []
    },
    {
      "cell_type": "code",
      "metadata": {
        "id": "JgZ8HFelf79E"
      },
      "source": [
        "dirty = pd.read_csv('dirtydata.csv')\n",
        "# Calculate the mean of \"Calories\" coloumn\n",
        "x = dirty[\"Calories\"].mean()\n",
        "# Replace the NA value with mean i.e, x\n",
        "dirty[\"Calories\"].fillna(x, inplace = True)\n",
        "dirty.head(30)\n"
      ],
      "execution_count": null,
      "outputs": []
    },
    {
      "cell_type": "code",
      "metadata": {
        "id": "76MwxI3GohAI"
      },
      "source": [
        "print(dirty.duplicated())\n",
        "new_dirty=dirty.drop_duplicates()\n",
        "new_dirty"
      ],
      "execution_count": null,
      "outputs": []
    },
    {
      "cell_type": "code",
      "metadata": {
        "id": "QCYcejWaqPGt"
      },
      "source": [
        "#Get the correlation of the \n",
        "#all the columns present in the dataset\n",
        "dirty.corr()"
      ],
      "execution_count": null,
      "outputs": []
    },
    {
      "cell_type": "code",
      "metadata": {
        "id": "UAWb_diN2GmH"
      },
      "source": [
        "df.plot()\n",
        "import matplotlib.pyplot as plt\n",
        "plt.show()"
      ],
      "execution_count": null,
      "outputs": []
    },
    {
      "cell_type": "code",
      "metadata": {
        "id": "SpJguzle2J0e"
      },
      "source": [
        "df.plot(kind = 'scatter', x = 'Sepal.Length', y = 'Sepal.Width')\n",
        "import matplotlib.pyplot as plt\n",
        "plt.show()"
      ],
      "execution_count": null,
      "outputs": []
    }
  ]
}